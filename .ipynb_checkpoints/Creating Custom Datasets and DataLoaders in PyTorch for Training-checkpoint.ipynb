{
 "cells": [
  {
   "cell_type": "markdown",
   "id": "b5dbe6ed-269a-40c8-a72c-addfd89e86a1",
   "metadata": {},
   "source": [
    "<h1>Creating Custom Datasets and DataLoaders in PyTorch for Training</h1>"
   ]
  },
  {
   "cell_type": "code",
   "execution_count": 1,
   "id": "2cbac402-ed49-48d9-a095-cf694ff85bea",
   "metadata": {},
   "outputs": [],
   "source": [
    "import torch\n",
    "import torch.nn as nn\n",
    "import torch.optim as optim\n",
    "import torchvision.transforms as transforms\n",
    "import torchvision.datasets as datasets\n",
    "from torch.utils.data import DataLoader\n",
    "from torchvision.io import read_image\n",
    "from torch.utils.data import Dataset\n",
    "import os\n",
    "from PIL import Image\n",
    "import torch.nn.functional as F\n",
    "from pathlib import Path"
   ]
  },
  {
   "cell_type": "code",
   "execution_count": 2,
   "id": "bd68d40a-7539-4922-a111-49daed1f63f2",
   "metadata": {},
   "outputs": [],
   "source": [
    "class CustomImageDataset(Dataset):\n",
    "    def __init__(self, root_dir, split, transform=None):\n",
    "        \"\"\"\n",
    "        Args:\n",
    "            root_dir (string): Directory with all the images.\n",
    "            split (string): 'train' or 'test' to specify the dataset split.\n",
    "            transform (callable, optional): Optional transform to be applied on a sample.\n",
    "        \"\"\"\n",
    "        self.root_dir = root_dir\n",
    "        self.split = split\n",
    "        self.transform = transform\n",
    "        self.img_labels = []\n",
    "\n",
    "        split_dir = os.path.join(root_dir, split)\n",
    "        categories = ['cats', 'dogs']\n",
    "        for category in categories:\n",
    "            category_dir = os.path.join(split_dir, category)\n",
    "            for img_name in os.listdir(category_dir):\n",
    "                img_path = os.path.join(category_dir, img_name)\n",
    "                label = 0 if category == 'cats' else 1\n",
    "                self.img_labels.append((img_path, label))\n",
    "\n",
    "    def __len__(self):\n",
    "        return len(self.img_labels)\n",
    "\n",
    "    def __getitem__(self, idx):\n",
    "        img_path, label = self.img_labels[idx]\n",
    "        image = Image.open(img_path).convert('RGB') \n",
    "        #image = read_image(img_path).float() / 255.0  # Normalize to [0,1]\n",
    "        if self.transform:\n",
    "            image = self.transform(image)\n",
    "        return image, label\n",
    "\n",
    "# Example usage:\n",
    "# dataset = CustomImageDataset(root_dir='path/to/dataset', split='train', transform=ToTensor())\n",
    "# train_loader = DataLoader(dataset, batch_size=4, shuffle=True)\n"
   ]
  },
  {
   "cell_type": "code",
   "execution_count": 3,
   "id": "a427478f-45be-49a2-a322-af9ff5c49bd0",
   "metadata": {},
   "outputs": [],
   "source": [
    "# Define the image transformations\n",
    "transform = transforms.Compose([\n",
    "    transforms.Resize((64, 64)),  # Resize to match the input size of the model\n",
    "    transforms.ToTensor(),\n",
    "])"
   ]
  },
  {
   "cell_type": "markdown",
   "id": "12a86729-89cc-488f-9a0a-c27cb171a9f6",
   "metadata": {},
   "source": [
    "Dataset Link :- https://www.kaggle.com/datasets/samuelcortinhas/cats-and-dogs-image-classification?resource=download\n",
    "(cats and Dog image classification)"
   ]
  },
  {
   "cell_type": "code",
   "execution_count": 5,
   "id": "c752d10c-6478-4710-927c-d8b3af68fcee",
   "metadata": {},
   "outputs": [],
   "source": [
    "# Load the custom dataset\n",
    "\n",
    "Dataset_path = Path('C:/Users/amitc/Downloads/archive_1/')  # dir path\n",
    "\n",
    "# traning\n",
    "train_dataset = CustomImageDataset(root_dir=Dataset_path, split='train', transform=transform) \n",
    "train_dataloader = DataLoader(train_dataset, batch_size=32, shuffle=True)\n",
    "\n",
    "# testing\n",
    "test_dataset = CustomImageDataset(root_dir=Dataset_path, split='test', transform=transform)\n",
    "test_dataloader = DataLoader(train_dataset, batch_size=32, shuffle=False)"
   ]
  },
  {
   "cell_type": "code",
   "execution_count": 6,
   "id": "68c83a29-33ea-4f2b-8e81-1c0ce84925a9",
   "metadata": {},
   "outputs": [],
   "source": [
    "# Define a simple image classification model\n",
    "class SimpleCNN(nn.Module):\n",
    "    def __init__(self):\n",
    "        super(SimpleCNN, self).__init__()\n",
    "        self.conv1 = nn.Conv2d(3, 16, kernel_size=3, padding=1)\n",
    "        self.pool = nn.MaxPool2d(kernel_size=2, stride=2)\n",
    "        self.fc1 = nn.Linear(16 * 32 * 32, 2)  # Adjust based on the number of classes\n",
    "\n",
    "    def forward(self, x):\n",
    "        x = self.pool(F.relu(self.conv1(x)))\n",
    "        x = x.view(-1, 16 * 32 * 32)  # Flatten the tensor\n",
    "        x = self.fc1(x)\n",
    "        return x"
   ]
  },
  {
   "cell_type": "code",
   "execution_count": 7,
   "id": "2d22cf32-ce51-4351-969b-e54f91a08f3e",
   "metadata": {},
   "outputs": [],
   "source": [
    "# Initialize the model, loss function, and optimizer\n",
    "model = SimpleCNN()\n",
    "criterion = nn.CrossEntropyLoss()\n",
    "optimizer = optim.Adam(model.parameters(), lr=0.001)"
   ]
  },
  {
   "cell_type": "code",
   "execution_count": 8,
   "id": "a4232116-d20e-413c-80ec-56fa1ba107f2",
   "metadata": {},
   "outputs": [
    {
     "name": "stdout",
     "output_type": "stream",
     "text": [
      "[Epoch 1, Batch 10] loss: 1.013\n",
      "[Epoch 2, Batch 10] loss: 0.666\n",
      "[Epoch 3, Batch 10] loss: 0.652\n",
      "[Epoch 4, Batch 10] loss: 0.627\n",
      "[Epoch 5, Batch 10] loss: 0.620\n",
      "[Epoch 6, Batch 10] loss: 0.595\n",
      "[Epoch 7, Batch 10] loss: 0.559\n",
      "[Epoch 8, Batch 10] loss: 0.515\n",
      "[Epoch 9, Batch 10] loss: 0.516\n",
      "[Epoch 10, Batch 10] loss: 0.467\n",
      "Finished Training\n"
     ]
    }
   ],
   "source": [
    "# Training loop\n",
    "num_epochs = 10\n",
    "for epoch in range(num_epochs):\n",
    "    running_loss = 0.0\n",
    "    for i, data in enumerate(train_dataloader, 0):\n",
    "        inputs, labels = data\n",
    "        optimizer.zero_grad()\n",
    "        outputs = model(inputs)\n",
    "        loss = criterion(outputs, labels)\n",
    "        loss.backward()\n",
    "        optimizer.step()\n",
    "        running_loss += loss.item()\n",
    "        if i % 10 == 9:  # Print every 10 batches\n",
    "            print(f'[Epoch {epoch + 1}, Batch {i + 1}] loss: {running_loss / 10:.3f}')\n",
    "            running_loss = 0.0\n",
    "\n",
    "print('Finished Training')"
   ]
  },
  {
   "cell_type": "code",
   "execution_count": 10,
   "id": "f49708aa-e039-490c-9499-d8504926cf04",
   "metadata": {},
   "outputs": [
    {
     "name": "stdout",
     "output_type": "stream",
     "text": [
      "Accuracy of the network on the 10 test images: 86.36%\n"
     ]
    }
   ],
   "source": [
    "# Move the model to GPU if available\n",
    "device = torch.device('cuda' if torch.cuda.is_available() else 'cpu')\n",
    "model.to(device)\n",
    "\n",
    "# Evaluate the model\n",
    "model.eval()\n",
    "correct = 0\n",
    "total = 0\n",
    "\n",
    "with torch.no_grad():\n",
    "    for images, labels in test_dataloader:\n",
    "        images, labels = images.to(device), labels.to(device)\n",
    "        outputs = model(images)\n",
    "        _, predicted = torch.max(outputs.data, 1)\n",
    "        total += labels.size(0)\n",
    "        correct += (predicted == labels).sum().item()\n",
    "\n",
    "print(f'Accuracy of the network on the 10 test images: {100 * correct / total:.2f}%')"
   ]
  }
 ],
 "metadata": {
  "kernelspec": {
   "display_name": "Python 3 (ipykernel)",
   "language": "python",
   "name": "python3"
  },
  "language_info": {
   "codemirror_mode": {
    "name": "ipython",
    "version": 3
   },
   "file_extension": ".py",
   "mimetype": "text/x-python",
   "name": "python",
   "nbconvert_exporter": "python",
   "pygments_lexer": "ipython3",
   "version": "3.12.4"
  }
 },
 "nbformat": 4,
 "nbformat_minor": 5
}
