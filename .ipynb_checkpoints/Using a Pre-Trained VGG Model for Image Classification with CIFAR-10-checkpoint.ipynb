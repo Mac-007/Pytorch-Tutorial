{
 "cells": [
  {
   "cell_type": "markdown",
   "id": "fd043ea7-1656-4406-a48b-d9076d2f4633",
   "metadata": {},
   "source": [
    "<h1>Using a Pre-Trained VGG Model for Image Classification with CIFAR-10</h1>"
   ]
  },
  {
   "cell_type": "markdown",
   "id": "ca510bb8-7687-4df6-801c-e7abfaa6e50d",
   "metadata": {},
   "source": [
    "<h5>Import libraries</h5>"
   ]
  },
  {
   "cell_type": "code",
   "execution_count": 10,
   "id": "39c01a1e-0620-4632-a454-8612b96cf2ff",
   "metadata": {},
   "outputs": [],
   "source": [
    "import torch\n",
    "import torch.nn as nn\n",
    "import torch.optim as optim\n",
    "import torchvision\n",
    "import torchvision.transforms as transforms\n",
    "import torchvision.models as models\n",
    "from torch.utils.data import DataLoader\n",
    "from torch.utils.data import Subset"
   ]
  },
  {
   "cell_type": "markdown",
   "id": "bca400af-934d-4b92-9dd1-293f07885561",
   "metadata": {},
   "source": [
    "<h5>Data Loading and Transformation:</h5>\n",
    "<ul>\n",
    "<li><b>Training Set:</b> Images are resized to 224x224 (to match VGG input size), randomly cropped with padding, and horizontally flipped for augmentation. Normalization is done using CIFAR-10 statistics.</li>\n",
    "<li><b>Testing Set:</b> Images are resized to 224x224 and normalized similarly to the training set.</li>\n",
    "</ul>"
   ]
  },
  {
   "cell_type": "code",
   "execution_count": 12,
   "id": "609d3916-376a-43cd-9ef4-b16c1bb35376",
   "metadata": {},
   "outputs": [],
   "source": [
    "# Define transformations for training and testing\n",
    "transform_train = transforms.Compose([\n",
    "    transforms.Resize(224),  # Resize images to 224x224\n",
    "    transforms.RandomCrop(224, padding=4),\n",
    "    transforms.RandomHorizontalFlip(),\n",
    "    transforms.ToTensor(),\n",
    "    transforms.Normalize((0.4914, 0.4822, 0.4465), (0.2023, 0.1994, 0.2010)),\n",
    "])\n",
    "\n",
    "transform_test = transforms.Compose([\n",
    "    transforms.Resize(224),  # Resize images to 224x224\n",
    "    transforms.ToTensor(),\n",
    "    transforms.Normalize((0.4914, 0.4822, 0.4465), (0.2023, 0.1994, 0.2010)),\n",
    "])"
   ]
  },
  {
   "cell_type": "markdown",
   "id": "31798662-1073-40f4-b19c-4e93641cf6e8",
   "metadata": {},
   "source": [
    "<h5>Data Downloading and Loading:</h5>\n",
    "\n",
    "CIFAR-10 dataset is downloaded and loaded into training and testing sets using DataLoader."
   ]
  },
  {
   "cell_type": "code",
   "execution_count": 14,
   "id": "6197112c-5bbc-41c7-914a-6ba461a50202",
   "metadata": {},
   "outputs": [
    {
     "name": "stdout",
     "output_type": "stream",
     "text": [
      "Files already downloaded and verified\n",
      "Files already downloaded and verified\n"
     ]
    }
   ],
   "source": [
    "# Download and prepare CIFAR-10 dataset\n",
    "full_trainset = torchvision.datasets.CIFAR10(root='./data', train=True, download=True, transform=transform_train)\n",
    "\n",
    "indices = list(range(100)) # making subset of 100 images for train-data\n",
    "\n",
    "trainset = Subset(full_trainset,indices)\n",
    "trainloader = DataLoader(trainset, batch_size=10, shuffle=True, num_workers=2)\n",
    "\n",
    "# test dataset\n",
    "full_testset = torchvision.datasets.CIFAR10(root='./data', train=False, download=True, transform=transform_test)\n",
    "\n",
    "indices = list(range(10))  # making subset of 10 images for test-data\n",
    "testset = Subset(full_testset,indices)\n",
    "testloader = DataLoader(testset, batch_size=1, shuffle=False, num_workers=2)"
   ]
  },
  {
   "cell_type": "markdown",
   "id": "cfa3da6a-c6c0-49a0-90af-11f403d011aa",
   "metadata": {},
   "source": [
    "<h5>Model Loading and Modification:</h5>\n",
    "\n",
    "<b>VGG-16 model pre-trained</b> on ImageNet is loaded.\n",
    "The final layer of the classifier is replaced to match the number of classes in CIFAR-10 (10 classes)."
   ]
  },
  {
   "cell_type": "code",
   "execution_count": 16,
   "id": "a720cf3b-ed98-40b7-82d1-979dbda0f41e",
   "metadata": {},
   "outputs": [
    {
     "data": {
      "text/plain": [
       "VGG(\n",
       "  (features): Sequential(\n",
       "    (0): Conv2d(3, 64, kernel_size=(3, 3), stride=(1, 1), padding=(1, 1))\n",
       "    (1): ReLU(inplace=True)\n",
       "    (2): Conv2d(64, 64, kernel_size=(3, 3), stride=(1, 1), padding=(1, 1))\n",
       "    (3): ReLU(inplace=True)\n",
       "    (4): MaxPool2d(kernel_size=2, stride=2, padding=0, dilation=1, ceil_mode=False)\n",
       "    (5): Conv2d(64, 128, kernel_size=(3, 3), stride=(1, 1), padding=(1, 1))\n",
       "    (6): ReLU(inplace=True)\n",
       "    (7): Conv2d(128, 128, kernel_size=(3, 3), stride=(1, 1), padding=(1, 1))\n",
       "    (8): ReLU(inplace=True)\n",
       "    (9): MaxPool2d(kernel_size=2, stride=2, padding=0, dilation=1, ceil_mode=False)\n",
       "    (10): Conv2d(128, 256, kernel_size=(3, 3), stride=(1, 1), padding=(1, 1))\n",
       "    (11): ReLU(inplace=True)\n",
       "    (12): Conv2d(256, 256, kernel_size=(3, 3), stride=(1, 1), padding=(1, 1))\n",
       "    (13): ReLU(inplace=True)\n",
       "    (14): Conv2d(256, 256, kernel_size=(3, 3), stride=(1, 1), padding=(1, 1))\n",
       "    (15): ReLU(inplace=True)\n",
       "    (16): MaxPool2d(kernel_size=2, stride=2, padding=0, dilation=1, ceil_mode=False)\n",
       "    (17): Conv2d(256, 512, kernel_size=(3, 3), stride=(1, 1), padding=(1, 1))\n",
       "    (18): ReLU(inplace=True)\n",
       "    (19): Conv2d(512, 512, kernel_size=(3, 3), stride=(1, 1), padding=(1, 1))\n",
       "    (20): ReLU(inplace=True)\n",
       "    (21): Conv2d(512, 512, kernel_size=(3, 3), stride=(1, 1), padding=(1, 1))\n",
       "    (22): ReLU(inplace=True)\n",
       "    (23): MaxPool2d(kernel_size=2, stride=2, padding=0, dilation=1, ceil_mode=False)\n",
       "    (24): Conv2d(512, 512, kernel_size=(3, 3), stride=(1, 1), padding=(1, 1))\n",
       "    (25): ReLU(inplace=True)\n",
       "    (26): Conv2d(512, 512, kernel_size=(3, 3), stride=(1, 1), padding=(1, 1))\n",
       "    (27): ReLU(inplace=True)\n",
       "    (28): Conv2d(512, 512, kernel_size=(3, 3), stride=(1, 1), padding=(1, 1))\n",
       "    (29): ReLU(inplace=True)\n",
       "    (30): MaxPool2d(kernel_size=2, stride=2, padding=0, dilation=1, ceil_mode=False)\n",
       "  )\n",
       "  (avgpool): AdaptiveAvgPool2d(output_size=(7, 7))\n",
       "  (classifier): Sequential(\n",
       "    (0): Linear(in_features=25088, out_features=4096, bias=True)\n",
       "    (1): ReLU(inplace=True)\n",
       "    (2): Dropout(p=0.5, inplace=False)\n",
       "    (3): Linear(in_features=4096, out_features=4096, bias=True)\n",
       "    (4): ReLU(inplace=True)\n",
       "    (5): Dropout(p=0.5, inplace=False)\n",
       "    (6): Linear(in_features=4096, out_features=10, bias=True)\n",
       "  )\n",
       ")"
      ]
     },
     "execution_count": 16,
     "metadata": {},
     "output_type": "execute_result"
    }
   ],
   "source": [
    "# Load the pre-trained VGG model\n",
    "model = models.vgg16(pretrained=True)\n",
    "\n",
    "# Modify the model for CIFAR-10 (10 classes)\n",
    "num_classes = 10\n",
    "model.classifier[6] = nn.Linear(model.classifier[6].in_features, num_classes)\n",
    "\n",
    "# Move the model to GPU if available\n",
    "device = torch.device('cuda' if torch.cuda.is_available() else 'cpu')\n",
    "model.to(device)"
   ]
  },
  {
   "cell_type": "markdown",
   "id": "a601d6b2-c368-4054-b04b-10fe4346ba5b",
   "metadata": {},
   "source": [
    "<h5>Model Training:</h5>\n",
    "\n",
    "<b>Loss function (CrossEntropyLoss)</b> and <b>optimizer (SGD with momentum and weight decay)</b> are defined.<br>\n",
    "The model is trained for a specified number of epochs. For each batch, the gradients are zeroed, the forward pass is computed, loss is calculated, backpropagation is performed, and weights are updated."
   ]
  },
  {
   "cell_type": "code",
   "execution_count": 18,
   "id": "f62b28a7-2c1e-4e3c-b5d9-4e134673f09b",
   "metadata": {},
   "outputs": [],
   "source": [
    "# Define the loss function and optimizer\n",
    "criterion = nn.CrossEntropyLoss()\n",
    "optimizer = optim.SGD(model.parameters(), lr=0.001, momentum=0.9, weight_decay=5e-4)"
   ]
  },
  {
   "cell_type": "code",
   "execution_count": 20,
   "id": "1e366ff1-a16e-4556-9b72-ffe03128e184",
   "metadata": {},
   "outputs": [
    {
     "name": "stdout",
     "output_type": "stream",
     "text": [
      "End of Epoch 1, Average Loss: 2.2486\n",
      "End of Epoch 2, Average Loss: 1.5038\n",
      "End of Epoch 3, Average Loss: 1.0453\n",
      "End of Epoch 4, Average Loss: 0.6159\n",
      "End of Epoch 5, Average Loss: 0.5870\n",
      "End of Epoch 6, Average Loss: 0.3064\n",
      "End of Epoch 7, Average Loss: 0.1548\n",
      "End of Epoch 8, Average Loss: 0.1708\n",
      "End of Epoch 9, Average Loss: 0.2210\n",
      "End of Epoch 10, Average Loss: 0.2264\n",
      "Finished Training\n"
     ]
    }
   ],
   "source": [
    "# Training loop\n",
    "num_epochs = 10\n",
    "\n",
    "for epoch in range(num_epochs):\n",
    "    model.train()\n",
    "    running_loss = 0.0\n",
    "    for i, (inputs, labels) in enumerate(trainloader):\n",
    "        inputs, labels = inputs.to(device), labels.to(device)\n",
    "\n",
    "        # Zero the parameter gradients\n",
    "        optimizer.zero_grad()\n",
    "\n",
    "        # Forward pass\n",
    "        outputs = model(inputs)\n",
    "\n",
    "        # Compute loss\n",
    "        loss = criterion(outputs, labels)\n",
    "\n",
    "        # Backward pass\n",
    "        loss.backward()\n",
    "\n",
    "        # Update weights\n",
    "        optimizer.step()\n",
    "\n",
    "        running_loss += loss.item()\n",
    "    \n",
    "    # Print average loss for the epoch\n",
    "    avg_loss = running_loss / len(trainloader)\n",
    "    print(f'End of Epoch {epoch + 1}, Average Loss: {avg_loss:.4f}')\n",
    "\n",
    "print('Finished Training')"
   ]
  },
  {
   "cell_type": "markdown",
   "id": "14f99a31-bbed-4528-8f2b-dbf88cbbb6d5",
   "metadata": {},
   "source": [
    "<h5>Model Evaluation:</h5>"
   ]
  },
  {
   "cell_type": "code",
   "execution_count": 22,
   "id": "78ddeaa8-e270-41f1-98ea-d36676fd7c2f",
   "metadata": {},
   "outputs": [
    {
     "name": "stdout",
     "output_type": "stream",
     "text": [
      "Accuracy of the network on the 10 test images: 50.00%\n"
     ]
    }
   ],
   "source": [
    "# Evaluate the model\n",
    "model.eval()\n",
    "correct = 0\n",
    "total = 0\n",
    "\n",
    "with torch.no_grad():\n",
    "    for images, labels in testloader:\n",
    "        images, labels = images.to(device), labels.to(device)\n",
    "        outputs = model(images)\n",
    "        _, predicted = torch.max(outputs.data, 1)\n",
    "        total += labels.size(0)\n",
    "        correct += (predicted == labels).sum().item()\n",
    "\n",
    "print(f'Accuracy of the network on the 10 test images: {100 * correct / total:.2f}%')\n"
   ]
  }
 ],
 "metadata": {
  "kernelspec": {
   "display_name": "Python 3 (ipykernel)",
   "language": "python",
   "name": "python3"
  },
  "language_info": {
   "codemirror_mode": {
    "name": "ipython",
    "version": 3
   },
   "file_extension": ".py",
   "mimetype": "text/x-python",
   "name": "python",
   "nbconvert_exporter": "python",
   "pygments_lexer": "ipython3",
   "version": "3.12.4"
  }
 },
 "nbformat": 4,
 "nbformat_minor": 5
}
